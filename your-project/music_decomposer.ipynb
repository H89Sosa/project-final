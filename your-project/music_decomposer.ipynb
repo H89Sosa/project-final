{
 "cells": [
  {
   "cell_type": "code",
   "execution_count": 12,
   "metadata": {
    "ExecuteTime": {
     "end_time": "2020-05-28T00:31:00.232481Z",
     "start_time": "2020-05-28T00:31:00.229605Z"
    }
   },
   "outputs": [],
   "source": [
    "import pandas as pd\n",
    "import numpy as np\n",
    "import librosa\n",
    "import soundfile as sf\n",
    "import glob"
   ]
  },
  {
   "cell_type": "code",
   "execution_count": 13,
   "metadata": {
    "ExecuteTime": {
     "end_time": "2020-05-28T00:31:00.750209Z",
     "start_time": "2020-05-28T00:31:00.743916Z"
    }
   },
   "outputs": [],
   "source": [
    "# Function to load the samples from a path to a prepared CNN Train data shape[n_samples, WINDOWSIZE, 1] \n",
    "# AND the y data\n",
    "\n",
    "def train_test_CNN(train_path, test_path, start, end, window=5, stride=1):\n",
    "    \n",
    "    train, sr = librosa.load(train_path)\n",
    "    test, sr = librosa.load(test_path)\n",
    "    \n",
    "    train = train[sr * start: sr * end]\n",
    "    test = test[sr * start: sr * end]\n",
    "    original = train\n",
    "\n",
    "    indexer = np.arange(window)[None, :] + stride*np.arange(len(test) + stride - window)[:, None]\n",
    "\n",
    "    train = train[indexer]\n",
    "\n",
    "    train = np.reshape(train, (train.shape[0], window, -1)) \n",
    "    \n",
    "    test = test[: - (window -1)]\n",
    "        \n",
    "    return train, test, original\n",
    "    "
   ]
  },
  {
   "cell_type": "code",
   "execution_count": 14,
   "metadata": {
    "ExecuteTime": {
     "end_time": "2020-05-28T00:31:01.346040Z",
     "start_time": "2020-05-28T00:31:01.334903Z"
    }
   },
   "outputs": [
    {
     "data": {
      "text/plain": [
       "['/Users/Sosa/Repos/project-final/your-project/Data/eyeofthetiger/Guitar.mp3',\n",
       " '/Users/Sosa/Repos/project-final/your-project/Data/eyeofthetiger/Rhythm.mp3',\n",
       " '/Users/Sosa/Repos/project-final/your-project/Data/eyeofthetiger/Drums.mp3',\n",
       " '/Users/Sosa/Repos/project-final/your-project/Data/eyeofthetiger/mix.mp3',\n",
       " '/Users/Sosa/Repos/project-final/your-project/Data/eyeofthetiger/Song.mp3']"
      ]
     },
     "execution_count": 14,
     "metadata": {},
     "output_type": "execute_result"
    }
   ],
   "source": [
    "song = 'eyeofthetiger'\n",
    "\n",
    "eye_songpath = glob.glob(\"/Users/Sosa/Repos/project-final/your-project/Data/\" + song + \"/*.mp3\")\n",
    "\n",
    "eye_songpath"
   ]
  },
  {
   "cell_type": "code",
   "execution_count": 16,
   "metadata": {
    "ExecuteTime": {
     "end_time": "2020-05-28T00:31:39.225933Z",
     "start_time": "2020-05-28T00:31:20.136377Z"
    }
   },
   "outputs": [],
   "source": [
    "start, end = (25, 55)\n",
    "\n",
    "window = 5\n",
    "stride = 1\n",
    "\n",
    "train, test, original = train_test_CNN(eye_songpath[-2], \n",
    "                             eye_songpath[2],\n",
    "                             start= start,\n",
    "                             end= end,\n",
    "                             window = window,\n",
    "                             stride = stride)"
   ]
  },
  {
   "cell_type": "code",
   "execution_count": 9,
   "metadata": {
    "ExecuteTime": {
     "end_time": "2020-05-27T23:36:20.290633Z",
     "start_time": "2020-05-27T23:36:20.286811Z"
    }
   },
   "outputs": [],
   "source": [
    "from keras.models import Sequential\n",
    "from keras.layers import Dense, Conv1D, Flatten, Dropout, MaxPooling1D"
   ]
  },
  {
   "cell_type": "code",
   "execution_count": 10,
   "metadata": {
    "ExecuteTime": {
     "end_time": "2020-05-27T23:36:20.786849Z",
     "start_time": "2020-05-27T23:36:20.777199Z"
    }
   },
   "outputs": [],
   "source": [
    "# 1DConv Neural Network\n",
    "\n",
    "def Conv1D_model():\n",
    "    \n",
    "    model = Sequential()\n",
    "    model.add(Conv1D(64, \n",
    "                     #strides=2, \n",
    "                     kernel_size=3, activation='relu', \n",
    "                     input_shape=(#4,\n",
    "                                  WINDOWS_SIZE,\n",
    "                                  1), \n",
    "                     name='input_layer'))\n",
    "    model.add(Conv1D(32, kernel_size=3, activation='relu', name='conv32_layer'))\n",
    "    model.add(MaxPooling1D(pool_size=1, strides=2, padding='valid', data_format='channels_last'))\n",
    "    model.add(Dropout(0.5))\n",
    "    model.add(Flatten())\n",
    "    model.add(Dense(100, activation='relu'))\n",
    "    model.add(Dense(1, activation='tanh')) \n",
    "    \n",
    "    model.compile(\n",
    "        optimizer='adam',\n",
    "        loss='mean_squared_error',\n",
    "        metrics=['MSE'],\n",
    "    )\n",
    "    \n",
    "    return model"
   ]
  },
  {
   "cell_type": "code",
   "execution_count": null,
   "metadata": {},
   "outputs": [],
   "source": []
  }
 ],
 "metadata": {
  "kernelspec": {
   "display_name": "Python 3",
   "language": "python",
   "name": "python3"
  },
  "language_info": {
   "codemirror_mode": {
    "name": "ipython",
    "version": 3
   },
   "file_extension": ".py",
   "mimetype": "text/x-python",
   "name": "python",
   "nbconvert_exporter": "python",
   "pygments_lexer": "ipython3",
   "version": "3.7.4"
  },
  "toc": {
   "base_numbering": 1,
   "nav_menu": {},
   "number_sections": true,
   "sideBar": true,
   "skip_h1_title": false,
   "title_cell": "Table of Contents",
   "title_sidebar": "Contents",
   "toc_cell": false,
   "toc_position": {},
   "toc_section_display": true,
   "toc_window_display": false
  },
  "varInspector": {
   "cols": {
    "lenName": 16,
    "lenType": 16,
    "lenVar": 40
   },
   "kernels_config": {
    "python": {
     "delete_cmd_postfix": "",
     "delete_cmd_prefix": "del ",
     "library": "var_list.py",
     "varRefreshCmd": "print(var_dic_list())"
    },
    "r": {
     "delete_cmd_postfix": ") ",
     "delete_cmd_prefix": "rm(",
     "library": "var_list.r",
     "varRefreshCmd": "cat(var_dic_list()) "
    }
   },
   "types_to_exclude": [
    "module",
    "function",
    "builtin_function_or_method",
    "instance",
    "_Feature"
   ],
   "window_display": false
  }
 },
 "nbformat": 4,
 "nbformat_minor": 2
}
